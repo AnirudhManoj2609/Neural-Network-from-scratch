{
 "cells": [
  {
   "cell_type": "markdown",
   "id": "a88166aa",
   "metadata": {},
   "source": [
    "\n",
    "Import libraries"
   ]
  },
  {
   "cell_type": "code",
   "execution_count": null,
   "id": "eb31ca26",
   "metadata": {},
   "outputs": [],
   "source": [
    "import numpy as np"
   ]
  },
  {
   "cell_type": "markdown",
   "id": "a26b7155",
   "metadata": {},
   "source": [
    "\n",
    "initialize input batch for training"
   ]
  },
  {
   "cell_type": "code",
   "execution_count": null,
   "id": "43a06974",
   "metadata": {},
   "outputs": [],
   "source": [
    "inputs = [[1.5,6.7,2.2,1.3],\n",
    "          [5.6,3.4,6.2,10.1],\n",
    "          [2.3,4.5,1.6,23.1]] #3*4 matrix"
   ]
  },
  {
   "cell_type": "markdown",
   "id": "903ac3f0",
   "metadata": {},
   "source": [
    "Initialize the weights and bias"
   ]
  },
  {
   "cell_type": "code",
   "execution_count": null,
   "id": "95d66edc",
   "metadata": {},
   "outputs": [],
   "source": [
    "weights = [[0.2,-0.4,0.8,0.7],\n",
    "           [-0.24,-0.9,0.21,0.76],\n",
    "           [0.25,-0.56,-0.12,0.43]]\n",
    "bias = [2.0,3.0,0.5]"
   ]
  },
  {
   "cell_type": "markdown",
   "id": "1d45435d",
   "metadata": {},
   "source": [
    "Perform the dot operation"
   ]
  },
  {
   "cell_type": "code",
   "execution_count": null,
   "id": "556b546f",
   "metadata": {},
   "outputs": [],
   "source": [
    "layer1_output = np.dot(inputs,np.array(weights).T) + bias"
   ]
  },
  {
   "cell_type": "markdown",
   "id": "c3178b78",
   "metadata": {},
   "source": [
    "Display output"
   ]
  },
  {
   "cell_type": "code",
   "execution_count": null,
   "id": "ad554da7",
   "metadata": {
    "lines_to_next_cell": 2
   },
   "outputs": [
    {
     "name": "stdout",
     "output_type": "stream",
     "text": [
      "[[ 2.29  -1.94  -2.582]\n",
      " [13.79   7.574  3.595]\n",
      " [18.11  16.29   8.296]]\n"
     ]
    }
   ],
   "source": [
    "print(layer1_output)"
   ]
  },
  {
   "cell_type": "markdown",
   "id": "87090640",
   "metadata": {},
   "source": [
    "Initialize second layer"
   ]
  },
  {
   "cell_type": "code",
   "execution_count": null,
   "id": "9398cb08",
   "metadata": {},
   "outputs": [],
   "source": [
    "weights2 = [[0.1,-0.14,0.5],\n",
    "            [-0.5,0.12,-0.33],\n",
    "            [-0.44,0.73,-0.13]]\n",
    "bias2 = [-1,2,-0.5]"
   ]
  },
  {
   "cell_type": "markdown",
   "id": "245a5dc8",
   "metadata": {},
   "source": [
    "Computation for the second layer"
   ]
  },
  {
   "cell_type": "code",
   "execution_count": null,
   "id": "d7ac155b",
   "metadata": {},
   "outputs": [],
   "source": [
    "layer2_output = np.dot(layer1_output,np.array(weights2).T) + bias2"
   ]
  }
 ],
 "metadata": {
  "jupytext": {
   "cell_metadata_filter": "-all",
   "encoding": "# coding: utf-8",
   "executable": "/usr/bin/env python",
   "main_language": "python",
   "notebook_metadata_filter": "-all"
  },
  "kernelspec": {
   "display_name": "base",
   "language": "python",
   "name": "python3"
  },
  "language_info": {
   "codemirror_mode": {
    "name": "ipython",
    "version": 3
   },
   "file_extension": ".py",
   "mimetype": "text/x-python",
   "name": "python",
   "nbconvert_exporter": "python",
   "pygments_lexer": "ipython3",
   "version": "3.12.2"
  }
 },
 "nbformat": 4,
 "nbformat_minor": 5
}
