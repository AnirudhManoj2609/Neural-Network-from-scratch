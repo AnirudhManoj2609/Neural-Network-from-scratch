{
 "cells": [
  {
   "cell_type": "markdown",
   "metadata": {},
   "source": [
    "Import libraries"
   ]
  },
  {
   "cell_type": "code",
   "execution_count": 19,
   "metadata": {},
   "outputs": [],
   "source": [
    "import importlib\n",
    "import dense\n",
    "importlib.reload(dense)\n",
    "import nnfs\n",
    "from nnfs.datasets import spiral_data\n",
    "from dense import DenseLayer"
   ]
  },
  {
   "cell_type": "code",
   "execution_count": 20,
   "metadata": {},
   "outputs": [
    {
     "name": "stdout",
     "output_type": "stream",
     "text": [
      "[[ 0.00000000e+00  0.00000000e+00  0.00000000e+00]\n",
      " [-1.28283665e-05  1.50260626e-05  2.10239923e-05]\n",
      " [ 7.98773337e-05  1.97939655e-05  3.76484576e-05]\n",
      " [-3.72780283e-04  5.23824849e-05  3.95512730e-05]\n",
      " [ 1.44439584e-04  4.13523194e-05  7.63453717e-05]]\n"
     ]
    }
   ],
   "source": [
    "X,y = spiral_data(samples=100,classes=3)\n",
    "\n",
    "dense1 = DenseLayer(2,3)\n",
    "\n",
    "dense1.forward(X)\n",
    "\n",
    "print(dense1.output[:5])"
   ]
  }
 ],
 "metadata": {
  "kernelspec": {
   "display_name": "base",
   "language": "python",
   "name": "python3"
  },
  "language_info": {
   "codemirror_mode": {
    "name": "ipython",
    "version": 3
   },
   "file_extension": ".py",
   "mimetype": "text/x-python",
   "name": "python",
   "nbconvert_exporter": "python",
   "pygments_lexer": "ipython3",
   "version": "3.12.2"
  }
 },
 "nbformat": 4,
 "nbformat_minor": 2
}
